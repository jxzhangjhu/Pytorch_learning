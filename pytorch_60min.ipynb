{
 "cells": [
  {
   "cell_type": "markdown",
   "metadata": {},
   "source": [
    "Deep Learning with PyTorch A 60 Minute Blitz"
   ]
  },
  {
   "cell_type": "code",
   "execution_count": 1,
   "metadata": {},
   "outputs": [
    {
     "name": "stdout",
     "output_type": "stream",
     "text": [
      "tensor([[ 0.0000e+00,  1.0842e-19, -1.2472e-27],\n",
      "        [ 4.6577e-10,  1.1210e-44,  0.0000e+00],\n",
      "        [ 0.0000e+00,  0.0000e+00,  0.0000e+00],\n",
      "        [ 0.0000e+00,  4.9102e-34,  1.4013e-45],\n",
      "        [ 1.4013e-45,  0.0000e+00,  0.0000e+00]])\n"
     ]
    }
   ],
   "source": [
    "from __future__ import print_function\n",
    "import torch\n",
    "\n",
    "x = torch.empty(5, 3)\n",
    "print(x)"
   ]
  },
  {
   "cell_type": "code",
   "execution_count": 2,
   "metadata": {},
   "outputs": [
    {
     "name": "stdout",
     "output_type": "stream",
     "text": [
      "tensor([[0.1002, 0.7185, 0.2078],\n",
      "        [0.9008, 0.3965, 0.4144],\n",
      "        [0.5663, 0.2216, 0.0890],\n",
      "        [0.6127, 0.5090, 0.6936],\n",
      "        [0.3121, 0.5371, 0.3155]])\n"
     ]
    }
   ],
   "source": [
    "x = torch.rand(5, 3)\n",
    "print(x)"
   ]
  },
  {
   "cell_type": "code",
   "execution_count": 3,
   "metadata": {},
   "outputs": [
    {
     "name": "stdout",
     "output_type": "stream",
     "text": [
      "tensor([[0, 0, 0],\n",
      "        [0, 0, 0],\n",
      "        [0, 0, 0],\n",
      "        [0, 0, 0],\n",
      "        [0, 0, 0]])\n"
     ]
    }
   ],
   "source": [
    "x = torch.zeros(5, 3, dtype=torch.long)\n",
    "print(x)"
   ]
  },
  {
   "cell_type": "code",
   "execution_count": 4,
   "metadata": {},
   "outputs": [
    {
     "name": "stdout",
     "output_type": "stream",
     "text": [
      "tensor([5.5000, 3.0000])\n"
     ]
    }
   ],
   "source": [
    "x = torch.tensor([5.5, 3])\n",
    "print(x)"
   ]
  },
  {
   "cell_type": "code",
   "execution_count": 7,
   "metadata": {
    "scrolled": true
   },
   "outputs": [
    {
     "name": "stdout",
     "output_type": "stream",
     "text": [
      "tensor([[1., 1., 1.],\n",
      "        [1., 1., 1.],\n",
      "        [1., 1., 1.],\n",
      "        [1., 1., 1.],\n",
      "        [1., 1., 1.]], dtype=torch.float64)\n",
      "tensor([[-0.7981,  0.2493, -0.7194],\n",
      "        [ 0.3679,  1.2780, -2.2528],\n",
      "        [-0.2227,  0.2879,  0.4972],\n",
      "        [-0.5812, -0.4504,  0.5923],\n",
      "        [ 0.5480, -0.2582, -0.1864]])\n",
      "torch.Size([5, 3])\n"
     ]
    }
   ],
   "source": [
    "x = x.new_ones(5, 3, dtype=torch.double)      # new_* methods take in sizes\n",
    "print(x)\n",
    "\n",
    "x = torch.randn_like(x, dtype=torch.float)    # 重载 dtype!\n",
    "print(x)  \n",
    "\n",
    "print(x.size()) #torch.Size本质上还是tuple，所以支持tuple的一切操作\n"
   ]
  },
  {
   "cell_type": "markdown",
   "metadata": {},
   "source": [
    "# 运算"
   ]
  },
  {
   "cell_type": "code",
   "execution_count": 10,
   "metadata": {},
   "outputs": [
    {
     "name": "stdout",
     "output_type": "stream",
     "text": [
      "tensor([[-0.3770,  0.6977,  0.0774],\n",
      "        [ 0.9525,  2.0335, -2.1073],\n",
      "        [-0.1558,  1.0540,  1.0401],\n",
      "        [-0.2023, -0.2495,  1.5115],\n",
      "        [ 0.8604,  0.2533,  0.7508]])\n",
      "tensor([[-0.3770,  0.6977,  0.0774],\n",
      "        [ 0.9525,  2.0335, -2.1073],\n",
      "        [-0.1558,  1.0540,  1.0401],\n",
      "        [-0.2023, -0.2495,  1.5115],\n",
      "        [ 0.8604,  0.2533,  0.7508]])\n",
      "tensor([[-0.3770,  0.6977,  0.0774],\n",
      "        [ 0.9525,  2.0335, -2.1073],\n",
      "        [-0.1558,  1.0540,  1.0401],\n",
      "        [-0.2023, -0.2495,  1.5115],\n",
      "        [ 0.8604,  0.2533,  0.7508]])\n",
      "tensor([[-0.3770,  0.6977,  0.0774],\n",
      "        [ 0.9525,  2.0335, -2.1073],\n",
      "        [-0.1558,  1.0540,  1.0401],\n",
      "        [-0.2023, -0.2495,  1.5115],\n",
      "        [ 0.8604,  0.2533,  0.7508]])\n"
     ]
    }
   ],
   "source": [
    "y = torch.rand(5, 3)\n",
    "print(x + y) # first way\n",
    "\n",
    "print(torch.add(x, y)) # second way \n",
    "\n",
    "result = torch.empty(5, 3)\n",
    "torch.add(x, y, out=result)\n",
    "print(result) # third way \n",
    "\n",
    "# adds x to y fourth way \n",
    "y.add_(x)\n",
    "print(y)\n",
    "\n",
    "# 注意： 任何一个in-place改变张量的操作后面都固定一个_。例如x.copy_(y)、x.t_()将更改x"
   ]
  },
  {
   "cell_type": "code",
   "execution_count": null,
   "metadata": {},
   "outputs": [],
   "source": []
  }
 ],
 "metadata": {
  "kernelspec": {
   "display_name": "Python 3",
   "language": "python",
   "name": "python3"
  },
  "language_info": {
   "codemirror_mode": {
    "name": "ipython",
    "version": 3
   },
   "file_extension": ".py",
   "mimetype": "text/x-python",
   "name": "python",
   "nbconvert_exporter": "python",
   "pygments_lexer": "ipython3",
   "version": "3.6.5"
  }
 },
 "nbformat": 4,
 "nbformat_minor": 2
}
