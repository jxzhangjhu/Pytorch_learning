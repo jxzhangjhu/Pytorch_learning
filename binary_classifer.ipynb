{
 "cells": [
  {
   "cell_type": "code",
   "execution_count": 127,
   "metadata": {},
   "outputs": [
    {
     "name": "stdout",
     "output_type": "stream",
     "text": [
      "torch.Size([2000, 8])\n",
      "torch.Size([2000, 1])\n",
      "tensor([[ 1.7884,  0.8209,  0.2348,  ..., -0.8271, -0.5790,  0.6070],\n",
      "        [-0.7274,  0.6992,  0.5502,  ...,  1.5163, -1.8584, -1.0624],\n",
      "        [ 0.0142, -0.4635, -1.0685,  ..., -2.3389,  0.5820, -0.3593],\n",
      "        ...,\n",
      "        [ 1.4336, -0.2933,  1.1599,  ...,  2.4394,  2.1142,  1.7722],\n",
      "        [ 2.0064,  0.5621,  2.7502,  ...,  1.6492,  1.5438,  1.3683],\n",
      "        [ 2.9500,  1.2871,  1.3683,  ...,  1.6120,  3.1193,  2.7203]])\n",
      "tensor([[0.],\n",
      "        [0.],\n",
      "        [0.],\n",
      "        ...,\n",
      "        [1.],\n",
      "        [1.],\n",
      "        [1.]])\n"
     ]
    }
   ],
   "source": [
    "import torch\n",
    "import torch.nn as nn\n",
    "from torch.autograd import Variable\n",
    "import torch.optim as optim\n",
    "\n",
    "import matplotlib.pyplot as plt\n",
    "%matplotlib inline\n",
    "\n",
    "data_size = 1000\n",
    "X1 = torch.randn(data_size, 8)\n",
    "X2 = torch.randn(data_size, 8) + 2\n",
    "\n",
    "X = torch.cat([X1, X2], dim=0) # concatnate 合并张量\n",
    "\n",
    "Y1 = torch.zeros(data_size, 1) # X1 - 0\n",
    "Y2 = torch.ones(data_size, 1) # X2 - 1\n",
    "\n",
    "Y = torch.cat([Y1, Y2], dim=0)\n",
    "\n",
    "\n",
    "print(X.size())\n",
    "print(Y.size())\n",
    "print(X)\n",
    "print(Y)"
   ]
  },
  {
   "cell_type": "code",
   "execution_count": 128,
   "metadata": {},
   "outputs": [
    {
     "data": {
      "text/plain": [
       "<matplotlib.collections.PathCollection at 0x1210567f0>"
      ]
     },
     "execution_count": 128,
     "metadata": {},
     "output_type": "execute_result"
    },
    {
     "data": {
      "image/png": "[encoded data removed]",
      "text/plain": [
       "<Figure size 432x288 with 1 Axes>"
      ]
     },
     "metadata": {},
     "output_type": "display_data"
    }
   ],
   "source": [
    "plt.scatter(X1[:, 0], X1[:, 1], color='b')\n",
    "plt.scatter(X2[:, 0], X2[:, 1], color='r')"
   ]
  },
  {
   "cell_type": "code",
   "execution_count": 129,
   "metadata": {},
   "outputs": [],
   "source": [
    "class Net(nn.Module):\n",
    "    \n",
    "    def __init__(self):\n",
    "        super().__init__()\n",
    "        self.fc1 = nn.Linear(8, 16)\n",
    "        self.relu1 = nn.ReLU()\n",
    "        \n",
    "        self.dout = nn.Dropout(0.2) # previous one is 0.2 \n",
    "        \n",
    "        self.fc2 = nn.Linear(16, 32) # can be adjusted \n",
    "        self.prelu = nn.PReLU(1)\n",
    "        \n",
    "        self.out = nn.Linear(32, 1)\n",
    "        self.out_act = nn.Sigmoid()\n",
    "        \n",
    "    def forward(self, input_):\n",
    "        a1 = self.fc1(input_)\n",
    "        h1 = self.relu1(a1)\n",
    "        dout = self.dout(h1)\n",
    "        a2 = self.fc2(dout)\n",
    "        h2 = self.prelu(a2)\n",
    "        a3 = self.out(h2)\n",
    "        y = self.out_act(a3)\n",
    "        return y\n",
    "    \n",
    "net = Net()\n",
    "opt = optim.Adam(net.parameters(), lr=0.001, betas=(0.9, 0.999)) # turing the learn rate? \n",
    "criterion = nn.BCELoss()"
   ]
  },
  {
   "cell_type": "code",
   "execution_count": 130,
   "metadata": {},
   "outputs": [],
   "source": [
    "def train_epoch(model, opt, criterion, batch_size=50): # batch_size = 50\n",
    "    model.train()\n",
    "    losses = []\n",
    "    for beg_i in range(0, X.size(0), batch_size):\n",
    "        x_batch = X[beg_i:beg_i + batch_size, :]\n",
    "        y_batch = Y[beg_i:beg_i + batch_size, :]\n",
    "        x_batch = Variable(x_batch)\n",
    "        y_batch = Variable(y_batch)\n",
    "\n",
    "        opt.zero_grad()\n",
    "        # (1) Forward\n",
    "        y_hat = net(x_batch)\n",
    "        # (2) Compute diff\n",
    "        loss = criterion(y_hat, y_batch)\n",
    "        # (3) Compute gradients\n",
    "        loss.backward()\n",
    "        # (4) update weights\n",
    "        opt.step()        \n",
    "        losses.append(loss.data.numpy())\n",
    "    return losses"
   ]
  },
  {
   "cell_type": "code",
   "execution_count": 131,
   "metadata": {},
   "outputs": [
    {
     "data": {
      "text/plain": [
       "[<matplotlib.lines.Line2D at 0x120a74e10>]"
      ]
     },
     "execution_count": 131,
     "metadata": {},
     "output_type": "execute_result"
    },
    {
     "data": {
      "image/png": "[encoded data removed]",
      "text/plain": [
       "<Figure size 432x288 with 1 Axes>"
      ]
     },
     "metadata": {},
     "output_type": "display_data"
    }
   ],
   "source": [
    "e_losses = []\n",
    "num_epochs = 50\n",
    "for e in range(num_epochs):\n",
    "    e_losses += train_epoch(net, opt, criterion)\n",
    "plt.plot(e_losses)"
   ]
  },
  {
   "cell_type": "code",
   "execution_count": 132,
   "metadata": {},
   "outputs": [
    {
     "name": "stdout",
     "output_type": "stream",
     "text": [
      "tensor([[2.1106e-11]], grad_fn=<SigmoidBackward>)\n",
      "tensor([[1.]], grad_fn=<SigmoidBackward>)\n"
     ]
    }
   ],
   "source": [
    "# # x_t = Variable(torch.randn(1, 8))\n",
    "# # # net.eval()\n",
    "# # print(net(x_t))\n",
    "# # x_1_t = Variable(torch.randn(1, 8) + 2)\n",
    "# # print(net(x_1_t))\n",
    "\n",
    "# x_test = X[1]"
   ]
  }
 ],
 "metadata": {
  "kernelspec": {
   "display_name": "Python 3",
   "language": "python",
   "name": "python3"
  },
  "language_info": {
   "codemirror_mode": {
    "name": "ipython",
    "version": 3
   },
   "file_extension": ".py",
   "mimetype": "text/x-python",
   "name": "python",
   "nbconvert_exporter": "python",
   "pygments_lexer": "ipython3",
   "version": "3.6.5"
  }
 },
 "nbformat": 4,
 "nbformat_minor": 2
}
