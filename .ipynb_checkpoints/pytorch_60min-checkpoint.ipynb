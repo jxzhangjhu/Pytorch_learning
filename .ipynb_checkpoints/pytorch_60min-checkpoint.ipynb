{
 "cells": [
  {
   "cell_type": "markdown",
   "metadata": {},
   "source": [
    "Deep Learning with PyTorch A 60 Minute Blitz"
   ]
  },
  {
   "cell_type": "code",
   "execution_count": 1,
   "metadata": {},
   "outputs": [
    {
     "name": "stdout",
     "output_type": "stream",
     "text": [
      "tensor([[ 0.0000e+00,  1.0842e-19, -1.2472e-27],\n",
      "        [ 4.6577e-10,  1.1210e-44,  0.0000e+00],\n",
      "        [ 0.0000e+00,  0.0000e+00,  0.0000e+00],\n",
      "        [ 0.0000e+00,  4.9102e-34,  1.4013e-45],\n",
      "        [ 1.4013e-45,  0.0000e+00,  0.0000e+00]])\n"
     ]
    }
   ],
   "source": [
    "from __future__ import print_function\n",
    "import torch\n",
    "\n",
    "x = torch.empty(5, 3)\n",
    "print(x)"
   ]
  },
  {
   "cell_type": "code",
   "execution_count": 2,
   "metadata": {},
   "outputs": [
    {
     "name": "stdout",
     "output_type": "stream",
     "text": [
      "tensor([[0.1002, 0.7185, 0.2078],\n",
      "        [0.9008, 0.3965, 0.4144],\n",
      "        [0.5663, 0.2216, 0.0890],\n",
      "        [0.6127, 0.5090, 0.6936],\n",
      "        [0.3121, 0.5371, 0.3155]])\n"
     ]
    }
   ],
   "source": [
    "x = torch.rand(5, 3)\n",
    "print(x)"
   ]
  },
  {
   "cell_type": "code",
   "execution_count": 3,
   "metadata": {},
   "outputs": [
    {
     "name": "stdout",
     "output_type": "stream",
     "text": [
      "tensor([[0, 0, 0],\n",
      "        [0, 0, 0],\n",
      "        [0, 0, 0],\n",
      "        [0, 0, 0],\n",
      "        [0, 0, 0]])\n"
     ]
    }
   ],
   "source": [
    "x = torch.zeros(5, 3, dtype=torch.long)\n",
    "print(x)"
   ]
  },
  {
   "cell_type": "code",
   "execution_count": 4,
   "metadata": {},
   "outputs": [
    {
     "name": "stdout",
     "output_type": "stream",
     "text": [
      "tensor([5.5000, 3.0000])\n"
     ]
    }
   ],
   "source": [
    "x = torch.tensor([5.5, 3])\n",
    "print(x)"
   ]
  },
  {
   "cell_type": "code",
   "execution_count": 7,
   "metadata": {
    "scrolled": true
   },
   "outputs": [
    {
     "name": "stdout",
     "output_type": "stream",
     "text": [
      "tensor([[1., 1., 1.],\n",
      "        [1., 1., 1.],\n",
      "        [1., 1., 1.],\n",
      "        [1., 1., 1.],\n",
      "        [1., 1., 1.]], dtype=torch.float64)\n",
      "tensor([[-0.7981,  0.2493, -0.7194],\n",
      "        [ 0.3679,  1.2780, -2.2528],\n",
      "        [-0.2227,  0.2879,  0.4972],\n",
      "        [-0.5812, -0.4504,  0.5923],\n",
      "        [ 0.5480, -0.2582, -0.1864]])\n",
      "torch.Size([5, 3])\n"
     ]
    }
   ],
   "source": [
    "x = x.new_ones(5, 3, dtype=torch.double)      # new_* methods take in sizes\n",
    "print(x)\n",
    "\n",
    "x = torch.randn_like(x, dtype=torch.float)    # 重载 dtype!\n",
    "print(x)  \n",
    "\n",
    "print(x.size()) #torch.Size本质上还是tuple，所以支持tuple的一切操作\n"
   ]
  },
  {
   "cell_type": "markdown",
   "metadata": {},
   "source": [
    "# 运算"
   ]
  },
  {
   "cell_type": "code",
   "execution_count": 10,
   "metadata": {},
   "outputs": [
    {
     "name": "stdout",
     "output_type": "stream",
     "text": [
      "tensor([[-0.3770,  0.6977,  0.0774],\n",
      "        [ 0.9525,  2.0335, -2.1073],\n",
      "        [-0.1558,  1.0540,  1.0401],\n",
      "        [-0.2023, -0.2495,  1.5115],\n",
      "        [ 0.8604,  0.2533,  0.7508]])\n",
      "tensor([[-0.3770,  0.6977,  0.0774],\n",
      "        [ 0.9525,  2.0335, -2.1073],\n",
      "        [-0.1558,  1.0540,  1.0401],\n",
      "        [-0.2023, -0.2495,  1.5115],\n",
      "        [ 0.8604,  0.2533,  0.7508]])\n",
      "tensor([[-0.3770,  0.6977,  0.0774],\n",
      "        [ 0.9525,  2.0335, -2.1073],\n",
      "        [-0.1558,  1.0540,  1.0401],\n",
      "        [-0.2023, -0.2495,  1.5115],\n",
      "        [ 0.8604,  0.2533,  0.7508]])\n",
      "tensor([[-0.3770,  0.6977,  0.0774],\n",
      "        [ 0.9525,  2.0335, -2.1073],\n",
      "        [-0.1558,  1.0540,  1.0401],\n",
      "        [-0.2023, -0.2495,  1.5115],\n",
      "        [ 0.8604,  0.2533,  0.7508]])\n"
     ]
    }
   ],
   "source": [
    "y = torch.rand(5, 3)\n",
    "print(x + y) # first way\n",
    "\n",
    "print(torch.add(x, y)) # second way \n",
    "\n",
    "result = torch.empty(5, 3)\n",
    "torch.add(x, y, out=result)\n",
    "print(result) # third way \n",
    "\n",
    "# adds x to y fourth way \n",
    "y.add_(x)\n",
    "print(y)\n",
    "\n",
    "# 注意： 任何一个in-place改变张量的操作后面都固定一个_。例如x.copy_(y)、x.t_()将更改x"
   ]
  },
  {
   "cell_type": "code",
   "execution_count": 14,
   "metadata": {},
   "outputs": [
    {
     "name": "stdout",
     "output_type": "stream",
     "text": [
      "tensor([ 0.2493,  1.2780,  0.2879, -0.4504, -0.2582])\n",
      "tensor([ 0.3679,  1.2780, -2.2528])\n",
      "tensor([[-0.7981,  0.2493, -0.7194],\n",
      "        [ 0.3679,  1.2780, -2.2528],\n",
      "        [-0.2227,  0.2879,  0.4972],\n",
      "        [-0.5812, -0.4504,  0.5923],\n",
      "        [ 0.5480, -0.2582, -0.1864]])\n",
      "tensor([-0.7981,  0.3679, -0.2227, -0.5812,  0.5480])\n"
     ]
    }
   ],
   "source": [
    "# 类似 number 一样的各种index 操作\n",
    "\n",
    "print(x[:,1])\n",
    "print(x[1,:])\n",
    "print(x[:])\n",
    "print(x[:,0])"
   ]
  },
  {
   "cell_type": "code",
   "execution_count": 16,
   "metadata": {},
   "outputs": [
    {
     "name": "stdout",
     "output_type": "stream",
     "text": [
      "torch.Size([4, 4]) torch.Size([16]) torch.Size([2, 8])\n",
      "tensor([[ 0.6360,  1.4440,  0.6681, -1.9473],\n",
      "        [-0.1962, -1.4734, -0.3524,  0.4839],\n",
      "        [-0.7634, -0.5775, -1.5449, -0.6311],\n",
      "        [-0.4246,  2.0180,  2.1591,  1.4222]])\n",
      "tensor([ 0.6360,  1.4440,  0.6681, -1.9473, -0.1962, -1.4734, -0.3524,  0.4839,\n",
      "        -0.7634, -0.5775, -1.5449, -0.6311, -0.4246,  2.0180,  2.1591,  1.4222])\n",
      "tensor([[ 0.6360,  1.4440,  0.6681, -1.9473, -0.1962, -1.4734, -0.3524,  0.4839],\n",
      "        [-0.7634, -0.5775, -1.5449, -0.6311, -0.4246,  2.0180,  2.1591,  1.4222]])\n"
     ]
    }
   ],
   "source": [
    "# transfer the shape\n",
    "\n",
    "x = torch.randn(4, 4)\n",
    "y = x.view(16)\n",
    "z = x.view(-1, 8)  # the size -1 is inferred from other dimensions\n",
    "print(x.size(), y.size(), z.size())\n",
    "\n",
    "print(x)\n",
    "print(y)\n",
    "print(z)\n"
   ]
  },
  {
   "cell_type": "code",
   "execution_count": 18,
   "metadata": {},
   "outputs": [
    {
     "name": "stdout",
     "output_type": "stream",
     "text": [
      "tensor([0.2760])\n",
      "0.27598994970321655\n"
     ]
    },
    {
     "ename": "ValueError",
     "evalue": "only one element tensors can be converted to Python scalars",
     "output_type": "error",
     "traceback": [
      "\u001b[0;31m---------------------------------------------------------------------------\u001b[0m",
      "\u001b[0;31mValueError\u001b[0m                                Traceback (most recent call last)",
      "\u001b[0;32m<ipython-input-18-af2d528df234>\u001b[0m in \u001b[0;36m<module>\u001b[0;34m()\u001b[0m\n\u001b[1;32m      5\u001b[0m \u001b[0;31m# 但是对于matrix 可以吗？\u001b[0m\u001b[0;34m\u001b[0m\u001b[0;34m\u001b[0m\u001b[0m\n\u001b[1;32m      6\u001b[0m \u001b[0mx\u001b[0m \u001b[0;34m=\u001b[0m \u001b[0mtorch\u001b[0m\u001b[0;34m.\u001b[0m\u001b[0mrandn\u001b[0m\u001b[0;34m(\u001b[0m\u001b[0;36m4\u001b[0m\u001b[0;34m,\u001b[0m \u001b[0;36m4\u001b[0m\u001b[0;34m)\u001b[0m\u001b[0;34m\u001b[0m\u001b[0m\n\u001b[0;32m----> 7\u001b[0;31m \u001b[0mx\u001b[0m\u001b[0;34m.\u001b[0m\u001b[0mitem\u001b[0m\u001b[0;34m(\u001b[0m\u001b[0;34m)\u001b[0m\u001b[0;34m\u001b[0m\u001b[0m\n\u001b[0m",
      "\u001b[0;31mValueError\u001b[0m: only one element tensors can be converted to Python scalars"
     ]
    }
   ],
   "source": [
    "# 如果是仅包含一个元素的tensor，可以使用.item()来得到对应的python数值\n",
    "x = torch.randn(1)\n",
    "print(x)\n",
    "print(x.item())\n",
    "# 但是对于matrix 可以吗？ no!\n",
    "# x = torch.randn(4, 4)\n",
    "# x.item() "
   ]
  },
  {
   "cell_type": "markdown",
   "metadata": {},
   "source": [
    "# Numpy bridge"
   ]
  },
  {
   "cell_type": "code",
   "execution_count": 26,
   "metadata": {},
   "outputs": [
    {
     "name": "stdout",
     "output_type": "stream",
     "text": [
      "tensor([1., 1., 1., 1., 1.])\n",
      "[1. 1. 1. 1. 1.]\n",
      "<class 'numpy.ndarray'>\n",
      "[1.0, 1.0, 1.0, 1.0, 1.0]\n",
      "<class 'list'>\n",
      "tensor([2., 2., 2., 2., 2.])\n",
      "[2. 2. 2. 2. 2.]\n"
     ]
    }
   ],
   "source": [
    "a = torch.ones(5)\n",
    "print(a)\n",
    "b = a.numpy()\n",
    "print(b)\n",
    "print(type(b))\n",
    "c = b.tolist() \n",
    "print(c)\n",
    "print(type(c))\n",
    "\n",
    "#\n",
    "a.add_(1)\n",
    "print(a)\n",
    "print(b)"
   ]
  },
  {
   "cell_type": "code",
   "execution_count": 27,
   "metadata": {},
   "outputs": [
    {
     "name": "stdout",
     "output_type": "stream",
     "text": [
      "[2. 2. 2. 2. 2.]\n",
      "tensor([2., 2., 2., 2., 2.], dtype=torch.float64)\n"
     ]
    }
   ],
   "source": [
    "# transfer numpy to torch tensor\n",
    "import numpy as np\n",
    "a = np.ones(5)\n",
    "b = torch.from_numpy(a)\n",
    "np.add(a, 1, out=a)\n",
    "print(a)\n",
    "print(b)\n",
    "# CPU上的所有张量(CharTensor除外)都支持转换为NumPy以及由NumPy转换回来。"
   ]
  },
  {
   "cell_type": "markdown",
   "metadata": {},
   "source": [
    "# CUDA Tensor "
   ]
  },
  {
   "cell_type": "code",
   "execution_count": 29,
   "metadata": {},
   "outputs": [],
   "source": [
    "# 没有 nividina 显卡不支持！\n",
    "# let us run this cell only if CUDA is available\n",
    "# 我们将使用`torch.device`来将tensor移入和移出GPU\n",
    "if torch.cuda.is_available():\n",
    "    device = torch.device(\"cuda\")          # a CUDA device object\n",
    "    y = torch.ones_like(x, device=device)  # 直接在GPU上创建tensor\n",
    "    x = x.to(device)                       # 或者使用`.to(\"cuda\")`方法\n",
    "    z = x + y\n",
    "    print(z)\n",
    "    print(z.to(\"cpu\", torch.double))       # `.to`也能在移动时改变dtype"
   ]
  },
  {
   "cell_type": "code",
   "execution_count": null,
   "metadata": {},
   "outputs": [],
   "source": []
  }
 ],
 "metadata": {
  "kernelspec": {
   "display_name": "Python 3",
   "language": "python",
   "name": "python3"
  },
  "language_info": {
   "codemirror_mode": {
    "name": "ipython",
    "version": 3
   },
   "file_extension": ".py",
   "mimetype": "text/x-python",
   "name": "python",
   "nbconvert_exporter": "python",
   "pygments_lexer": "ipython3",
   "version": "3.6.5"
  }
 },
 "nbformat": 4,
 "nbformat_minor": 2
}
